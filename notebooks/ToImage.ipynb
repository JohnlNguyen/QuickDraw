{
 "cells": [
  {
   "cell_type": "code",
   "execution_count": 22,
   "metadata": {},
   "outputs": [],
   "source": [
    "import numpy as np\n",
    "import os\n",
    "import pandas as pd\n",
    "\n",
    "BASE_DIR = os.getcwd()"
   ]
  },
  {
   "cell_type": "code",
   "execution_count": 23,
   "metadata": {},
   "outputs": [],
   "source": [
    "from PIL import Image, ImageDraw\n",
    "\n",
    "def draw_it(raw_strokes):\n",
    "    image = Image.new(\"P\", (255,255), color=255)\n",
    "    image_draw = ImageDraw.Draw(image)\n",
    "\n",
    "    for stroke in eval(raw_strokes):\n",
    "        for i in range(len(stroke[0])-1):\n",
    "\n",
    "            image_draw.line([stroke[0][i], \n",
    "                             stroke[1][i],\n",
    "                             stroke[0][i+1], \n",
    "                             stroke[1][i+1]],\n",
    "                            fill=0, width=6)\n",
    "    return image"
   ]
  },
  {
   "cell_type": "code",
   "execution_count": 24,
   "metadata": {},
   "outputs": [
    {
     "data": {
      "text/html": [
       "<div>\n",
       "<style scoped>\n",
       "    .dataframe tbody tr th:only-of-type {\n",
       "        vertical-align: middle;\n",
       "    }\n",
       "\n",
       "    .dataframe tbody tr th {\n",
       "        vertical-align: top;\n",
       "    }\n",
       "\n",
       "    .dataframe thead th {\n",
       "        text-align: right;\n",
       "    }\n",
       "</style>\n",
       "<table border=\"1\" class=\"dataframe\">\n",
       "  <thead>\n",
       "    <tr style=\"text-align: right;\">\n",
       "      <th></th>\n",
       "      <th>countrycode</th>\n",
       "      <th>drawing</th>\n",
       "      <th>key_id</th>\n",
       "      <th>recognized</th>\n",
       "      <th>timestamp</th>\n",
       "      <th>word</th>\n",
       "    </tr>\n",
       "  </thead>\n",
       "  <tbody>\n",
       "    <tr>\n",
       "      <th>0</th>\n",
       "      <td>IT</td>\n",
       "      <td>[[[53, 33, 4, 0, 0, 10, 37, 55, 76, 129, 165, ...</td>\n",
       "      <td>4508224340361216</td>\n",
       "      <td>True</td>\n",
       "      <td>2017-03-09 18:45:41.010110</td>\n",
       "      <td>wheel</td>\n",
       "    </tr>\n",
       "    <tr>\n",
       "      <th>1</th>\n",
       "      <td>US</td>\n",
       "      <td>[[[193, 188, 174, 130, 78, 51, 34, 19, 7, 0, 2...</td>\n",
       "      <td>6402240963149824</td>\n",
       "      <td>True</td>\n",
       "      <td>2017-03-08 14:34:13.350840</td>\n",
       "      <td>wheel</td>\n",
       "    </tr>\n",
       "    <tr>\n",
       "      <th>2</th>\n",
       "      <td>US</td>\n",
       "      <td>[[[104, 92, 43, 24, 4, 0, 0, 8, 37, 104, 118, ...</td>\n",
       "      <td>5563984679796736</td>\n",
       "      <td>True</td>\n",
       "      <td>2017-03-03 18:42:16.250470</td>\n",
       "      <td>wheel</td>\n",
       "    </tr>\n",
       "    <tr>\n",
       "      <th>3</th>\n",
       "      <td>IT</td>\n",
       "      <td>[[[126, 113, 67, 59, 47, 38, 38, 46, 56, 82, 9...</td>\n",
       "      <td>5460608575078400</td>\n",
       "      <td>True</td>\n",
       "      <td>2017-03-02 18:53:26.596650</td>\n",
       "      <td>wheel</td>\n",
       "    </tr>\n",
       "    <tr>\n",
       "      <th>4</th>\n",
       "      <td>GB</td>\n",
       "      <td>[[[168, 111, 80, 64, 41, 23, 3, 0, 3, 10, 23, ...</td>\n",
       "      <td>4998454591881216</td>\n",
       "      <td>True</td>\n",
       "      <td>2017-03-09 04:09:20.026790</td>\n",
       "      <td>wheel</td>\n",
       "    </tr>\n",
       "  </tbody>\n",
       "</table>\n",
       "</div>"
      ],
      "text/plain": [
       "  countrycode                                            drawing  \\\n",
       "0          IT  [[[53, 33, 4, 0, 0, 10, 37, 55, 76, 129, 165, ...   \n",
       "1          US  [[[193, 188, 174, 130, 78, 51, 34, 19, 7, 0, 2...   \n",
       "2          US  [[[104, 92, 43, 24, 4, 0, 0, 8, 37, 104, 118, ...   \n",
       "3          IT  [[[126, 113, 67, 59, 47, 38, 38, 46, 56, 82, 9...   \n",
       "4          GB  [[[168, 111, 80, 64, 41, 23, 3, 0, 3, 10, 23, ...   \n",
       "\n",
       "             key_id  recognized                   timestamp   word  \n",
       "0  4508224340361216        True  2017-03-09 18:45:41.010110  wheel  \n",
       "1  6402240963149824        True  2017-03-08 14:34:13.350840  wheel  \n",
       "2  5563984679796736        True  2017-03-03 18:42:16.250470  wheel  \n",
       "3  5460608575078400        True  2017-03-02 18:53:26.596650  wheel  \n",
       "4  4998454591881216        True  2017-03-09 04:09:20.026790  wheel  "
      ]
     },
     "execution_count": 24,
     "metadata": {},
     "output_type": "execute_result"
    }
   ],
   "source": [
    "draw_type = \"wheel\"\n",
    "out_dir = f'{BASE_DIR}/images/{draw_type}'\n",
    "data = pd.read_csv(f'{BASE_DIR}/train/{draw_type}.csv')\n",
    "data.head()"
   ]
  },
  {
   "cell_type": "code",
   "execution_count": 25,
   "metadata": {},
   "outputs": [
    {
     "data": {
      "image/png": "[encoded data removed]",
      "text/plain": [
       "<PIL.Image.Image image mode=P size=255x255 at 0x11EC55C18>"
      ]
     },
     "execution_count": 25,
     "metadata": {},
     "output_type": "execute_result"
    }
   ],
   "source": [
    "draw_it(data.loc[0].drawing)"
   ]
  }
 ],
 "metadata": {
  "kernelspec": {
   "display_name": "Quick Draw venv",
   "language": "python",
   "name": "venv"
  },
  "language_info": {
   "codemirror_mode": {
    "name": "ipython",
    "version": 3
   },
   "file_extension": ".py",
   "mimetype": "text/x-python",
   "name": "python",
   "nbconvert_exporter": "python",
   "pygments_lexer": "ipython3",
   "version": "3.7.0"
  }
 },
 "nbformat": 4,
 "nbformat_minor": 2
}
